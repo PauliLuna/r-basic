{
 "cells": [
  {
   "cell_type": "markdown",
   "id": "d15b5b98",
   "metadata": {},
   "source": [
    "# Preguntas\n",
    "1- Escribe una secuencia de instrucciones que permitan leer un número real por pantalla y que muestre si el número es positivo o no."
   ]
  },
  {
   "cell_type": "code",
   "execution_count": null,
   "id": "90ff0012",
   "metadata": {},
   "outputs": [],
   "source": [
    "nro = int(input(\"Ingrese número: \"))\n",
    "if nro>0:\n",
    "    print(\"El número es positivo.\")\n",
    "elif nro==0:\n",
    "    print(\"El número es cero.\")\n",
    "else:\n",
    "    print(\"El número es negativo.\")"
   ]
  },
  {
   "cell_type": "markdown",
   "id": "e489ff64",
   "metadata": {},
   "source": [
    "2- Escribe una secuencia de instrucciones que permitan leer un número real por pantalla y que muestre si el número está en el rango entre -5 y 5."
   ]
  },
  {
   "cell_type": "code",
   "execution_count": null,
   "id": "d015a8d0",
   "metadata": {},
   "outputs": [],
   "source": [
    "nro = int(input(\"Ingrese número: \"))\n",
    "if nro<=5 and nro>=-5:\n",
    "    print(\"El número se encuentra dentro del intervalo [-5, 5]\")\n",
    "else:\n",
    "    print(\"El número no se encuentra dentro del intervalo [-5, 5]\")"
   ]
  },
  {
   "cell_type": "markdown",
   "id": "a4dc80c0",
   "metadata": {},
   "source": [
    "3- Escribe una secuencia de instrucciones que permitan leer las coordenadas de un punto (x, y) e indique en cuál de los cuatro cuadrantes se encuentra dicho punto."
   ]
  },
  {
   "cell_type": "code",
   "execution_count": null,
   "id": "0bb9cfe6",
   "metadata": {},
   "outputs": [],
   "source": [
    "x = int(input(\"Ingrese coordena del eje x: \"))\n",
    "y = int(input(\"Ingrese coordena del eje y: \"))\n",
    "if x>0 and y>0:\n",
    "    print(\"El punto de encuentra dentro del primer cuadrante\")\n",
    "elif x<0 and y>0:\n",
    "    print(\"El punto de encuentra dentro del segundo cuadrante\")\n",
    "elif x<0 and y<0:\n",
    "    print(\"El punto de encuentra dentro del tercer cuadrante\")\n",
    "elif x>0 and y<0:\n",
    "    print(\"El punto de encuentra dentro del cuarto cuadrante\")\n",
    "elif x==0:\n",
    "    print(\"El punto de encuentra sobre el eje de las abscisas\")\n",
    "elif y==0:\n",
    "    print(\"El punto de encuentra sobre el eje de las coordenadas\")"
   ]
  },
  {
   "cell_type": "markdown",
   "id": "75ddedf2",
   "metadata": {},
   "source": [
    "4 -Escribe una secuencia de instrucciones que permitan leer dos números enteros y muestre el cociente de la división entera y el resto"
   ]
  },
  {
   "cell_type": "code",
   "execution_count": null,
   "id": "d4916d82",
   "metadata": {},
   "outputs": [],
   "source": [
    "nro1 = int(input(\"Ingrese un numero: \"))\n",
    "nro2 = int(input(\"Ingrese otro numero: \"))\n",
    "print(\"Cociente de la división entera: \"+ str(nro1//nro2))\n",
    "print(\"resto de la división: \"+ str(nro1%nro2))"
   ]
  },
  {
   "cell_type": "markdown",
   "id": "ad7b1761",
   "metadata": {},
   "source": [
    "5- Escribe una secuencia de instrucciones que permitan leer un número entero es cuadrado perfecto o no (piensa la mejor forma de hacerlo con lo que has aprendido hasta ahora)"
   ]
  },
  {
   "cell_type": "code",
   "execution_count": 17,
   "id": "9b07d395",
   "metadata": {},
   "outputs": [],
   "source": [
    "import math"
   ]
  },
  {
   "cell_type": "code",
   "execution_count": null,
   "id": "7bb1c16e",
   "metadata": {},
   "outputs": [],
   "source": [
    "nro = float(input(\"Ingrese numero: \"))\n",
    "e = int(math.sqrt(nro))\n",
    "if e**2==nro:\n",
    "    print(\"El numero es cuadrado perfecto\")\n",
    "else:\n",
    "    print(\"El numero no es cuadrado perfecto\")"
   ]
  },
  {
   "cell_type": "markdown",
   "id": "da9a8d1c",
   "metadata": {},
   "source": [
    "6- Escribe una expresión que permita determinar si un número entero positivo puede corresponder a un año bisiesto o no. Se consideran años bisiestos aquellos cuyo número es divisible por cuatro excepto los años que son múltiplos de 100, a no ser que lo sean de 400 (por ejemplo el año 2000 fue bisiesto pero el 2100 no lo será)."
   ]
  },
  {
   "cell_type": "code",
   "execution_count": null,
   "id": "72f87da2",
   "metadata": {},
   "outputs": [],
   "source": [
    "anio = int(input(\"Ingrese año: \"))\n",
    "if anio % 4 == 0 and (anio % 100 != 0 or anio % 400 == 0):\n",
    "    print(\"Es bisiesto\")\n",
    "else:\n",
    "    print(\"No es bisiesto\")"
   ]
  },
  {
   "cell_type": "markdown",
   "id": "78fea2e1",
   "metadata": {},
   "source": [
    "7- Busca la imagen de un tablero de ajedrez en Google y fíjate en la nomenclatura de las casillas. Escribe una expresión lea una letra y un número de teclado correspondiente a una casilla de un tablero de ajedrez y nos indique si esta casilla es negra o blanca."
   ]
  },
  {
   "cell_type": "code",
   "execution_count": null,
   "id": "1fdcd359",
   "metadata": {},
   "outputs": [],
   "source": [
    "l = input(\"Ingrese letra: \").lower()\n",
    "n = int(input(\"Ingrese numero: \"))\n",
    "if n<1 and n>8 or l not in (\"a\",\"b\",\"c\",\"d\",\"e\",\"f\",\"g\", \"h\"):\n",
    "    print(\"Ubicacion no valida.\")\n",
    "elif n%2==0 and l in (\"a\",\"c\",\"e\",\"g\"):\n",
    "    print(\"Blanco\")\n",
    "elif n%2!=0 and l in (\"a\",\"c\",\"e\",\"g\"):\n",
    "    print(\"Negro\")\n",
    "elif n%2==0 and l in (\"b\",\"d\",\"f\",\"h\"):\n",
    "    print(\"Negro\")\n",
    "elif n%2!=0 and l in (\"b\",\"d\",\"f\",\"h\"):\n",
    "    print(\"Blanco\")"
   ]
  }
 ],
 "metadata": {
  "kernelspec": {
   "display_name": "Python 3",
   "language": "python",
   "name": "python3"
  },
  "language_info": {
   "codemirror_mode": {
    "name": "ipython",
    "version": 3
   },
   "file_extension": ".py",
   "mimetype": "text/x-python",
   "name": "python",
   "nbconvert_exporter": "python",
   "pygments_lexer": "ipython3",
   "version": "3.8.8"
  }
 },
 "nbformat": 4,
 "nbformat_minor": 5
}
