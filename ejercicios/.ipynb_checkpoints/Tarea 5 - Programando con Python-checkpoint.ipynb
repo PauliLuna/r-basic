{
 "cells": [
  {
   "cell_type": "markdown",
   "id": "ee590092",
   "metadata": {},
   "source": [
    "## Ejercicio 1\n",
    "Crea una función que reciba los tres coeficientes a, b y c para resolver una ecuación de segundo grado. Muestra la solución por pantalla y ayúdate de la librería Math para acceder a la función raíz cuadrada."
   ]
  },
  {
   "cell_type": "code",
   "execution_count": 1,
   "id": "4c2af3f2",
   "metadata": {},
   "outputs": [],
   "source": [
    "import math"
   ]
  },
  {
   "cell_type": "code",
   "execution_count": 2,
   "id": "fa1fec95",
   "metadata": {},
   "outputs": [],
   "source": [
    "def resolvente(a,b,c):\n",
    "    x1=(-b- math.sqrt(math.pow(b,2)-4*a*c))/2*a\n",
    "    x2=(-b+ math.sqrt(math.pow(b,2)-4*a*c))/2*a\n",
    "    return x1,x2"
   ]
  },
  {
   "cell_type": "code",
   "execution_count": 5,
   "id": "e1642ae4",
   "metadata": {},
   "outputs": [
    {
     "data": {
      "text/plain": [
       "(-3.414213562373095, -0.5857864376269049)"
      ]
     },
     "execution_count": 5,
     "metadata": {},
     "output_type": "execute_result"
    }
   ],
   "source": [
    "resolvente(1,4,2) #Funciona ok"
   ]
  },
  {
   "cell_type": "markdown",
   "id": "47ab4004",
   "metadata": {},
   "source": [
    "## Ejercicio 2\n",
    "Crea una función que lea una frase de teclado y nos diga si es o no un palíndromo (frase que se lee igual de izquierda a derecha o al revés como por ejemplo La ruta nos aportó otro paso natural.)"
   ]
  },
  {
   "cell_type": "code",
   "execution_count": 46,
   "id": "cdad2ecf",
   "metadata": {},
   "outputs": [],
   "source": [
    "def palindromo(frase):\n",
    "    rta = False\n",
    "    frase = frase.strip().lower().replace(' ','')\n",
    "    frase2= frase[::-1]\n",
    "    print(frase2)\n",
    "    if frase == frase2:\n",
    "        rta = True\n",
    "    return rta"
   ]
  },
  {
   "cell_type": "code",
   "execution_count": 49,
   "id": "35118adf",
   "metadata": {},
   "outputs": [
    {
     "name": "stdout",
     "output_type": "stream",
     "text": [
      "larutanosaportootropasonatural\n"
     ]
    },
    {
     "data": {
      "text/plain": [
       "True"
      ]
     },
     "execution_count": 49,
     "metadata": {},
     "output_type": "execute_result"
    }
   ],
   "source": [
    "palindromo(\"La ruta nos aporto otro paso natural\")"
   ]
  },
  {
   "cell_type": "markdown",
   "id": "94a9e57c",
   "metadata": {},
   "source": [
    "## Ejercicio 3\n",
    "Crea un diccionario que tenga por claves los números del 1 al 10 y como valores sus raíces cuadradas"
   ]
  },
  {
   "cell_type": "code",
   "execution_count": 50,
   "id": "b75614d4",
   "metadata": {},
   "outputs": [],
   "source": [
    "diccionario = {\n",
    "    1: math.sqrt(1),\n",
    "    2: math.sqrt(2),\n",
    "    3: math.sqrt(3),\n",
    "    4: math.sqrt(4),\n",
    "    5: math.sqrt(5),\n",
    "    6: math.sqrt(6),\n",
    "    7: math.sqrt(7),\n",
    "    8: math.sqrt(8),\n",
    "    9: math.sqrt(9),\n",
    "    10: math.sqrt(10),\n",
    "}"
   ]
  },
  {
   "cell_type": "code",
   "execution_count": 53,
   "id": "fcd067a7",
   "metadata": {},
   "outputs": [
    {
     "data": {
      "text/plain": [
       "2.0"
      ]
     },
     "execution_count": 53,
     "metadata": {},
     "output_type": "execute_result"
    }
   ],
   "source": [
    "diccionario[4]"
   ]
  },
  {
   "cell_type": "markdown",
   "id": "52b7181f",
   "metadata": {},
   "source": [
    "## Ejercicio 4\n",
    "\n",
    "Crea un diccionario que tenga como claves las letras del alfabeto castellano y como valores los símbolos del código morse (los tienes todos en la Wikipedia). A continuación crea un programa que lea una frase del teclado y te la convierta a Morse utilizando el diccionario anterior."
   ]
  },
  {
   "cell_type": "code",
   "execution_count": 29,
   "id": "1fec7808",
   "metadata": {},
   "outputs": [],
   "source": [
    "equivalencias = {\n",
    "    \"A\": \".-\",\n",
    "    \"B\": \"-...\",\n",
    "    \"C\": \"-.-.\",\n",
    "    \"CH\": \"----\",\n",
    "    \"D\": \"-..\",\n",
    "    \"E\": \".\",\n",
    "    \"F\": \"..-.\",\n",
    "    \"G\": \"--.\",\n",
    "    \"H\": \"....\",\n",
    "    \"I\": \"..\",\n",
    "    \"J\": \".---\",\n",
    "    \"K\": \"-.-\",\n",
    "    \"L\": \".-..\",\n",
    "    \"M\": \"--\",\n",
    "    \"N\": \"-.\",\n",
    "    \"Ñ\": \"--.--\",\n",
    "    \"O\": \"---\",\n",
    "    \"P\": \".--.\",\n",
    "    \"Q\": \"--.-\",\n",
    "    \"R\": \".-.\",\n",
    "    \"S\": \"...\",\n",
    "    \"T\": \"-\",\n",
    "    \"U\": \"..-\",\n",
    "    \"V\": \"...-\",\n",
    "    \"W\": \".--\",\n",
    "    \"X\": \"-..-\",\n",
    "    \"Y\": \"-.--\",\n",
    "    \"Z\": \"--..\",\n",
    "    \"0\": \"-----\",\n",
    "    \"1\": \".----\",\n",
    "    \"2\": \"..---\",\n",
    "    \"3\": \"...--\",\n",
    "    \"4\": \"....-\",\n",
    "    \"5\": \".....\",\n",
    "    \"6\": \"-....\",\n",
    "    \"7\": \"--...\",\n",
    "    \"8\": \"---..\",\n",
    "    \"9\": \"----.\",\n",
    "    \".\": \".-.-.-\",\n",
    "    \",\": \"--..--\",\n",
    "    \":\": \"---...\",\n",
    "    \"?\": \"..--..\",\n",
    "    \"'\": \".----.\",\n",
    "    \"-\": \"-....-\",\n",
    "    \"/\": \"-..-.\",\n",
    "    \"\\\"\": \".-..-.\",\n",
    "    \"@\": \".--.-.\",\n",
    "    \"=\": \"-...-\",\n",
    "    \"!\": \"−.−.−−\",\n",
    "}"
   ]
  },
  {
   "cell_type": "code",
   "execution_count": 30,
   "id": "9288daea",
   "metadata": {},
   "outputs": [],
   "source": [
    "def codif_morse(frase):\n",
    "    morse=\"\"\n",
    "    for i in frase.upper():\n",
    "        if i in equivalencias:\n",
    "            morse += equivalencias[i]\n",
    "    return morse"
   ]
  },
  {
   "cell_type": "markdown",
   "id": "97e94f5d",
   "metadata": {},
   "source": [
    "## Ejercicio 5\n",
    "Crea una función que dados dos diccionarios nos diga que claves están presentes en ambos."
   ]
  },
  {
   "cell_type": "code",
   "execution_count": 55,
   "id": "a79faf67",
   "metadata": {},
   "outputs": [],
   "source": [
    "dic1 = {\n",
    "    1: \"das\",\n",
    "    2: \"dsa\",\n",
    "    3: \"ad\",\n",
    "    4: \"dgf\",\n",
    "    9: \"sads\"\n",
    "}\n",
    "dic2 = {\n",
    "    2: \"dsa\",\n",
    "    9: \"ad\",\n",
    "    5: \"dgf\",\n",
    "    3: \"sads\"\n",
    "}"
   ]
  },
  {
   "cell_type": "code",
   "execution_count": 57,
   "id": "ce64680a",
   "metadata": {},
   "outputs": [],
   "source": [
    "def compara(dic1, dic2):\n",
    "    cl = []\n",
    "    keys1 = dic1.keys()\n",
    "    keys2 = dic2.keys()\n",
    "    for k in keys1:\n",
    "        if k in keys2:\n",
    "            cl.append(k)\n",
    "    return cl"
   ]
  },
  {
   "cell_type": "code",
   "execution_count": 58,
   "id": "9de64dcd",
   "metadata": {},
   "outputs": [
    {
     "data": {
      "text/plain": [
       "[2, 3, 9]"
      ]
     },
     "execution_count": 58,
     "metadata": {},
     "output_type": "execute_result"
    }
   ],
   "source": [
    "compara(dic1,dic2)"
   ]
  },
  {
   "cell_type": "markdown",
   "id": "1cae2df7",
   "metadata": {},
   "source": [
    "## Ejercicio 6\n",
    "Crea una función que dado un número N nos diga si es primo o no (tiene que ir dividiendo por todos los números x comprendidos entre 2 y el propio número N menos uno y ver si el cociente de N/x tiene resto cero o no)."
   ]
  },
  {
   "cell_type": "code",
   "execution_count": 69,
   "id": "d8a51eb5",
   "metadata": {},
   "outputs": [],
   "source": [
    "def primo(N):\n",
    "    for i in range(2,N-1):\n",
    "        if N % i ==0:\n",
    "            return False\n",
    "    return True"
   ]
  },
  {
   "cell_type": "code",
   "execution_count": 71,
   "id": "8fbf52dd",
   "metadata": {},
   "outputs": [
    {
     "data": {
      "text/plain": [
       "True"
      ]
     },
     "execution_count": 71,
     "metadata": {},
     "output_type": "execute_result"
    }
   ],
   "source": [
    "primo(2)"
   ]
  },
  {
   "cell_type": "markdown",
   "id": "5b86014e",
   "metadata": {},
   "source": [
    "## Ejercicio 7\n",
    "Investiga la documentación de la clase string y crea un método que lea una frase del teclado y escriba la primera letra de cada palabra en Mayúscula."
   ]
  },
  {
   "cell_type": "code",
   "execution_count": 1,
   "id": "570cc8f8",
   "metadata": {},
   "outputs": [
    {
     "name": "stdout",
     "output_type": "stream",
     "text": [
      "Hola\n",
      "Como\n",
      "Estas?\n",
      "-bien,\n",
      "Vos?\n"
     ]
    }
   ],
   "source": [
    "frase = \"Hola como estas? -bien, vos?\"\n",
    "frase = frase.split(' ')\n",
    "for i in frase:\n",
    "    print(i.capitalize())"
   ]
  },
  {
   "cell_type": "markdown",
   "id": "15e7da37",
   "metadata": {},
   "source": [
    "## Ejercicio 8\n",
    "Crea una función que calcule el máximo común divisor de dos números introducidos por el usuario por teclado."
   ]
  },
  {
   "cell_type": "code",
   "execution_count": 1,
   "id": "5a3dd6dd",
   "metadata": {},
   "outputs": [],
   "source": [
    "def mcd(a, b):\n",
    "    resto= 0\n",
    "    while b>0:\n",
    "        resto=b\n",
    "        b= a%b\n",
    "        a= resto\n",
    "    return a"
   ]
  },
  {
   "cell_type": "code",
   "execution_count": 4,
   "id": "2a6c50ad",
   "metadata": {},
   "outputs": [
    {
     "data": {
      "text/plain": [
       "1"
      ]
     },
     "execution_count": 4,
     "metadata": {},
     "output_type": "execute_result"
    }
   ],
   "source": [
    "mcd(5,2)"
   ]
  },
  {
   "cell_type": "markdown",
   "id": "650ba3c2",
   "metadata": {},
   "source": [
    "## Ejercicio 9\n",
    "Investiga el Cifrado del César y crea una función que lo reproduzca en Python. Cada letra del mensaje original se desplaza tres posiciones en el alfabeto estándar. La A se convierte en la D, la B se convierte en la E, la C se convierte en la F... y cuando se acaba el alfabeto se le vuelve a dar la vuelta: la X se convierte en la A, la Y en la B y la X en la C. Los números no sufren ninguna modificación."
   ]
  },
  {
   "cell_type": "code",
   "execution_count": 12,
   "id": "33914cdd",
   "metadata": {},
   "outputs": [],
   "source": [
    "abc = 'abcdefghijklmnñopqrstuvwxyzabc'\n",
    "def cifrar(frase):\n",
    "    frase = frase.lower()\n",
    "    cifrado = \"\"\n",
    "    for i in frase:\n",
    "        if i in abc:\n",
    "            lugar = abc.find(i)+3\n",
    "            cifrado += str(abc[lugar])\n",
    "        else:\n",
    "            cifrado += i\n",
    "    return cifrado"
   ]
  },
  {
   "cell_type": "code",
   "execution_count": 10,
   "id": "c8e62d33",
   "metadata": {},
   "outputs": [
    {
     "data": {
      "text/plain": [
       "False"
      ]
     },
     "execution_count": 10,
     "metadata": {},
     "output_type": "execute_result"
    }
   ],
   "source": [
    "'4' in abc"
   ]
  },
  {
   "cell_type": "markdown",
   "id": "2df1716c",
   "metadata": {},
   "source": [
    "## Ejercicio 10\n",
    "Dado una lista de nombres de persona, escribe un algoritmo que los ordene de tres formas diferentes:\n",
    "\n",
    "A. De forma alfabética\n",
    "\n",
    "B. De forma alfabética invertida\n",
    "\n",
    "C. De nombre más corto al más largo."
   ]
  },
  {
   "cell_type": "code",
   "execution_count": 28,
   "id": "3a871dfc",
   "metadata": {},
   "outputs": [
    {
     "name": "stdout",
     "output_type": "stream",
     "text": [
      "['Agustin', 'Alejandra', 'Ali', 'Ariel', 'Felipe', 'Jorge', 'Paulina']\n",
      "['Paulina', 'Jorge', 'Felipe', 'Ariel', 'Ali', 'Alejandra', 'Agustin']\n",
      "['Ali', 'Jorge', 'Ariel', 'Felipe', 'Paulina', 'Agustin', 'Alejandra']\n"
     ]
    }
   ],
   "source": [
    "nombres = ['Jorge', 'Paulina','Agustin', 'Alejandra', 'Ariel', 'Felipe', 'Ali']\n",
    "alfabetico = sorted(nombres)\n",
    "print(alfabetico)\n",
    "inv_alfabetico = sorted(nombres, reverse=True)\n",
    "print(inv_alfabetico)\n",
    "corto_largo = sorted(nombres,key=len)\n",
    "print(corto_largo)"
   ]
  }
 ],
 "metadata": {
  "kernelspec": {
   "display_name": "Python 3",
   "language": "python",
   "name": "python3"
  },
  "language_info": {
   "codemirror_mode": {
    "name": "ipython",
    "version": 3
   },
   "file_extension": ".py",
   "mimetype": "text/x-python",
   "name": "python",
   "nbconvert_exporter": "python",
   "pygments_lexer": "ipython3",
   "version": "3.8.8"
  }
 },
 "nbformat": 4,
 "nbformat_minor": 5
}
